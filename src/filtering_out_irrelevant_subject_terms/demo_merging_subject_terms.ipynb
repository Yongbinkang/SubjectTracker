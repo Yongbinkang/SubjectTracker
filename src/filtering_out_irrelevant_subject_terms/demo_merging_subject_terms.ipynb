{
 "cells": [
  {
   "cell_type": "markdown",
   "metadata": {},
   "source": [
    "# Demonstrate merging secondary (infrequent) subject terms program\n",
    "\n",
    "- Use sample data to identify usages of subject terms over documents\n",
    "- Merge infrequent subject term to the one of frequent subject terms with the MAX similarity. The similarity is calculated by wordnet for single length words and word2vec model for multi-length words\n",
    "- Merging program process as follows:\n",
    "    1. Read missing_subject_terms.csv (result of the identification of missing subject term)\n",
    "    2. Calculate similarity and merge single length infrequent subject term by wordnet method\n",
    "    3. Calculate similarity and merge multi length infrequent subject term by word embedding method\n"
   ]
  },
  {
   "cell_type": "markdown",
   "metadata": {},
   "source": [
    "## Set parameters in params/param.dat\n",
    "\n",
    "- INPUT_DATA_DIR: directory of input data(e.g. ../../data/missing_subject_terms.csv)\n",
    "- OUTPUT_DIR: directory of output data (e.g. ../../data/)\n",
    "- MIN_DF: integer minimum subject term's usages. it determines frequent/infrequent subject term(e.g. 10)\n",
    "- APO_MODEL_DIR: directory of word2vec model (e.g. ../../model/tokens_skipgram.100d.model)\n",
    "- MIN_SIM: float minimum similarity"
   ]
  },
  {
   "cell_type": "code",
   "execution_count": 8,
   "metadata": {},
   "outputs": [],
   "source": [
    "# param.dat\n",
    "\n",
    "INPUT_DATA_DIR: ../../data/missing_subject_terms.csv\n",
    "OUTPUT_DIR: ../../data/\n",
    "MIN_DF: 10\n",
    "APO_MODEL_DIR: ../../model/tokens_skipgram.100d.model\n",
    "MIN_SIM: 0.7"
   ]
  },
  {
   "cell_type": "markdown",
   "metadata": {},
   "source": [
    "## Excute program"
   ]
  },
  {
   "cell_type": "code",
   "execution_count": 6,
   "metadata": {},
   "outputs": [
    {
     "name": "stdout",
     "output_type": "stream",
     "text": [
      "wordnet merging process completed. 3 of subject terms merged with wordnet\n",
      "0 of subject term merging process completed\n",
      "Word embedding merging process completed. 213 of subject terms merged with word embedding method\n"
     ]
    }
   ],
   "source": [
    "!python main.py params/param.dat"
   ]
  },
  {
   "cell_type": "markdown",
   "metadata": {},
   "source": [
    "## Read output\n",
    "\n",
    "**merging_subject_terms_with_word2vec_and_wordnet.csv**\n",
    "\n",
    "- The data contains subject_terms, doc_freq, matched_frequent_subject_term, and max_similarity\n",
    "    - subject_terms: subject term\n",
    "    - doc_freq: subject term's document frequency\n",
    "    - matched_frequent_subject_term: The most similar primary subject term for the subject term\n",
    "    - max_similarity: similarity score between the primary subject term and subject term"
   ]
  },
  {
   "cell_type": "code",
   "execution_count": 4,
   "metadata": {},
   "outputs": [
    {
     "data": {
      "text/html": [
       "<div>\n",
       "<style scoped>\n",
       "    .dataframe tbody tr th:only-of-type {\n",
       "        vertical-align: middle;\n",
       "    }\n",
       "\n",
       "    .dataframe tbody tr th {\n",
       "        vertical-align: top;\n",
       "    }\n",
       "\n",
       "    .dataframe thead th {\n",
       "        text-align: right;\n",
       "    }\n",
       "</style>\n",
       "<table border=\"1\" class=\"dataframe\">\n",
       "  <thead>\n",
       "    <tr style=\"text-align: right;\">\n",
       "      <th></th>\n",
       "      <th>subject_terms</th>\n",
       "      <th>doc_freq</th>\n",
       "      <th>matched_frequent_subject_term</th>\n",
       "      <th>max_similarity</th>\n",
       "    </tr>\n",
       "  </thead>\n",
       "  <tbody>\n",
       "    <tr>\n",
       "      <th>0</th>\n",
       "      <td>aboriginal australians</td>\n",
       "      <td>100</td>\n",
       "      <td>NaN</td>\n",
       "      <td>0.0</td>\n",
       "    </tr>\n",
       "    <tr>\n",
       "      <th>1</th>\n",
       "      <td>indigenous</td>\n",
       "      <td>84</td>\n",
       "      <td>NaN</td>\n",
       "      <td>0.0</td>\n",
       "    </tr>\n",
       "    <tr>\n",
       "      <th>2</th>\n",
       "      <td>communities</td>\n",
       "      <td>35</td>\n",
       "      <td>NaN</td>\n",
       "      <td>0.0</td>\n",
       "    </tr>\n",
       "    <tr>\n",
       "      <th>3</th>\n",
       "      <td>policy</td>\n",
       "      <td>28</td>\n",
       "      <td>NaN</td>\n",
       "      <td>0.0</td>\n",
       "    </tr>\n",
       "    <tr>\n",
       "      <th>4</th>\n",
       "      <td>research</td>\n",
       "      <td>23</td>\n",
       "      <td>NaN</td>\n",
       "      <td>0.0</td>\n",
       "    </tr>\n",
       "    <tr>\n",
       "      <th>...</th>\n",
       "      <td>...</td>\n",
       "      <td>...</td>\n",
       "      <td>...</td>\n",
       "      <td>...</td>\n",
       "    </tr>\n",
       "    <tr>\n",
       "      <th>303</th>\n",
       "      <td>social policy</td>\n",
       "      <td>1</td>\n",
       "      <td>aboriginal australians</td>\n",
       "      <td>1.0</td>\n",
       "    </tr>\n",
       "    <tr>\n",
       "      <th>304</th>\n",
       "      <td>regional and remote</td>\n",
       "      <td>1</td>\n",
       "      <td>aboriginal australians</td>\n",
       "      <td>1.0</td>\n",
       "    </tr>\n",
       "    <tr>\n",
       "      <th>305</th>\n",
       "      <td>nurses</td>\n",
       "      <td>1</td>\n",
       "      <td>aboriginal australians</td>\n",
       "      <td>1.0</td>\n",
       "    </tr>\n",
       "    <tr>\n",
       "      <th>306</th>\n",
       "      <td>teachers</td>\n",
       "      <td>1</td>\n",
       "      <td>aboriginal australians</td>\n",
       "      <td>1.0</td>\n",
       "    </tr>\n",
       "    <tr>\n",
       "      <th>307</th>\n",
       "      <td>performance management</td>\n",
       "      <td>1</td>\n",
       "      <td>aboriginal australians</td>\n",
       "      <td>1.0</td>\n",
       "    </tr>\n",
       "  </tbody>\n",
       "</table>\n",
       "<p>308 rows × 4 columns</p>\n",
       "</div>"
      ],
      "text/plain": [
       "              subject_terms  doc_freq matched_frequent_subject_term  \\\n",
       "0    aboriginal australians       100                           NaN   \n",
       "1                indigenous        84                           NaN   \n",
       "2               communities        35                           NaN   \n",
       "3                    policy        28                           NaN   \n",
       "4                  research        23                           NaN   \n",
       "..                      ...       ...                           ...   \n",
       "303           social policy         1        aboriginal australians   \n",
       "304     regional and remote         1        aboriginal australians   \n",
       "305                  nurses         1        aboriginal australians   \n",
       "306                teachers         1        aboriginal australians   \n",
       "307  performance management         1        aboriginal australians   \n",
       "\n",
       "     max_similarity  \n",
       "0               0.0  \n",
       "1               0.0  \n",
       "2               0.0  \n",
       "3               0.0  \n",
       "4               0.0  \n",
       "..              ...  \n",
       "303             1.0  \n",
       "304             1.0  \n",
       "305             1.0  \n",
       "306             1.0  \n",
       "307             1.0  \n",
       "\n",
       "[308 rows x 4 columns]"
      ]
     },
     "execution_count": 4,
     "metadata": {},
     "output_type": "execute_result"
    }
   ],
   "source": [
    "import pandas as pd\n",
    "\n",
    "df = pd.read_csv(\"../../data/merged_subject_terms.csv\",sep=',',encoding='utf-8')\n",
    "df"
   ]
  }
 ],
 "metadata": {
  "kernelspec": {
   "display_name": "Python 3",
   "language": "python",
   "name": "python3"
  },
  "language_info": {
   "codemirror_mode": {
    "name": "ipython",
    "version": 3
   },
   "file_extension": ".py",
   "mimetype": "text/x-python",
   "name": "python",
   "nbconvert_exporter": "python",
   "pygments_lexer": "ipython3",
   "version": "3.8.3"
  },
  "toc": {
   "base_numbering": 1,
   "nav_menu": {},
   "number_sections": true,
   "sideBar": true,
   "skip_h1_title": false,
   "title_cell": "Table of Contents",
   "title_sidebar": "Contents",
   "toc_cell": false,
   "toc_position": {},
   "toc_section_display": true,
   "toc_window_display": true
  }
 },
 "nbformat": 4,
 "nbformat_minor": 4
}
