{
 "cells": [
  {
   "cell_type": "markdown",
   "metadata": {},
   "source": [
    "# Demonstrate building word2vec model program\n",
    "\n",
    "- Use sample data to demonstrate how to build word2vec model"
   ]
  },
  {
   "cell_type": "markdown",
   "metadata": {},
   "source": [
    "\n",
    "**Set parameters in params/param.dat**\n",
    "\n",
    "- WV_INPUT_DATA_PATH: directory of input data (e.g. ../../data/apoDescriptions.csv)\n",
    "- DATA_TYPE: tokens\n",
    "- TRAIN_PATH: directory of train path (e.g. ../../model/)\n",
    "- MAX_PHRASE_LENGTH: 3\n",
    "- DIM_SIZE: 100\n",
    "- WINDOW_SIZE: 5\n",
    "- MIN_COUNT: 3"
   ]
  },
  {
   "cell_type": "code",
   "execution_count": 3,
   "metadata": {},
   "outputs": [],
   "source": [
    "# param.dat\n",
    "\n",
    "WV_INPUT_DATA_PATH = '../../data/apoDescriptions.csv'\n",
    "DATA_TYPE = 'tokens'\n",
    "TRAIN_PATH = '../../model/'\n",
    "MAX_PHRASE_LENGTH = 3\n",
    "DIM_SIZE = 100\n",
    "WINDOW_SIZE = 5\n",
    "MIN_COUNT = 3"
   ]
  },
  {
   "cell_type": "markdown",
   "metadata": {},
   "source": [
    "## Excute program"
   ]
  },
  {
   "cell_type": "code",
   "execution_count": 4,
   "metadata": {},
   "outputs": [
    {
     "name": "stdout",
     "output_type": "stream",
     "text": [
      "word embedding has been done for %s tokens\r\n",
      "data type to be embedded: %s tokens\r\n",
      "vocabulary size to be embedded: 651\r\n"
     ]
    }
   ],
   "source": [
    "!python main.py params/param.dat"
   ]
  },
  {
   "cell_type": "markdown",
   "metadata": {},
   "source": [
    "## Verify generated word2vec model with a word"
   ]
  },
  {
   "cell_type": "code",
   "execution_count": 6,
   "metadata": {},
   "outputs": [],
   "source": [
    "from gensim.models import Word2Vec\n",
    "\n",
    "wv_model = Word2Vec.load(TRAIN_PATH + \"tokens_skipgram.100d.model\")"
   ]
  },
  {
   "cell_type": "code",
   "execution_count": 8,
   "metadata": {},
   "outputs": [
    {
     "name": "stdout",
     "output_type": "stream",
     "text": [
      "vocabulary size to be embedded: 651\n"
     ]
    }
   ],
   "source": [
    "# print number of vocabs in the worv2vec model\n",
    "print(\"vocabulary size to be embedded: {0}\".format(len(wv_model.wv.vocab)))"
   ]
  },
  {
   "cell_type": "code",
   "execution_count": 9,
   "metadata": {},
   "outputs": [
    {
     "name": "stderr",
     "output_type": "stream",
     "text": [
      "/Users/jihoonwoo/opt/anaconda3/envs/soda_venv/lib/python3.7/site-packages/ipykernel_launcher.py:7: DeprecationWarning: Call to deprecated `most_similar` (Method will be removed in 4.0.0, use self.wv.most_similar() instead).\n",
      "  import sys\n"
     ]
    },
    {
     "data": {
      "text/plain": [
       "[('present', 0.9996236562728882),\n",
       " ('many', 0.9996166229248047),\n",
       " ('paper', 0.9995793104171753),\n",
       " ('target', 0.9995746612548828),\n",
       " ('take', 0.9995719194412231),\n",
       " ('culture', 0.9995670318603516),\n",
       " ('factor', 0.999563455581665),\n",
       " ('increase', 0.9995556473731995),\n",
       " ('report', 0.9995534420013428),\n",
       " ('resource', 0.9995489716529846)]"
      ]
     },
     "execution_count": 9,
     "metadata": {},
     "output_type": "execute_result"
    }
   ],
   "source": [
    "# verify model with exist word\n",
    "\n",
    "word = 'funnell'\n",
    "if word in wv_model.wv.vocab:\n",
    "    print(word + ' exist')\n",
    "# print the most similar words\n",
    "wv_model.most_similar('research')"
   ]
  },
  {
   "cell_type": "code",
   "execution_count": null,
   "metadata": {},
   "outputs": [],
   "source": []
  }
 ],
 "metadata": {
  "kernelspec": {
   "display_name": "soda_venv",
   "language": "python",
   "name": "soda_venv"
  },
  "language_info": {
   "codemirror_mode": {
    "name": "ipython",
    "version": 3
   },
   "file_extension": ".py",
   "mimetype": "text/x-python",
   "name": "python",
   "nbconvert_exporter": "python",
   "pygments_lexer": "ipython3",
   "version": "3.7.9"
  },
  "toc": {
   "base_numbering": 1,
   "nav_menu": {},
   "number_sections": false,
   "sideBar": true,
   "skip_h1_title": false,
   "title_cell": "Table of Contents",
   "title_sidebar": "Contents",
   "toc_cell": false,
   "toc_position": {},
   "toc_section_display": true,
   "toc_window_display": true
  }
 },
 "nbformat": 4,
 "nbformat_minor": 4
}
